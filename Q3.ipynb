{
  "nbformat": 4,
  "nbformat_minor": 0,
  "metadata": {
    "colab": {
      "provenance": []
    },
    "kernelspec": {
      "name": "python3",
      "display_name": "Python 3"
    },
    "language_info": {
      "name": "python"
    }
  },
  "cells": [
    {
      "cell_type": "code",
      "execution_count": null,
      "metadata": {
        "id": "ttLqz2RjB4pR"
      },
      "outputs": [],
      "source": [
        "# How to run: Should be pasted in solution.py and used in main.ipynb\n",
        "def find_optimal_pruning(model, train_loader, test_loader, device, prune_ratio_dict: Dict, steps):\n",
        "  # This functions helps to find the optimal pruning ratio to futher reduce energy consuption while maintaining above 85% accuracy.\n",
        "    ## Initial Prune ratio\n",
        "    init_prune_ratio = 0.3\n",
        "    testAccuracy = 100\n",
        "\n",
        "    while testAccuracy > 85 :\n",
        "        init_prune_ratio += steps\n",
        "\n",
        "        # Update prune ratio\n",
        "        for key in prune_ratio_dict:\n",
        "            prune_ratio_dict[key] = init_prune_ratio\n",
        "\n",
        "        print(prune_ratio_dict)\n",
        "        # Prune\n",
        "        sparsed_model = model_to_spars(model, prune_ratio_dict)\n",
        "        print(\"Prune ratio: \", init_prune_ratio)\n",
        "        print(\"Pruned Model size:\", model_size(sparsed_model))\n",
        "\n",
        "        # Fine-tune\n",
        "        print(\"Fine-tuning.....\")\n",
        "        criterion = torch.nn.CrossEntropyLoss()\n",
        "        optimizer = torch.optim.SGD(sparsed_model.parameters(), 1e-3, momentum=0.9, weight_decay=0.0005, nesterov=True)\n",
        "        scheduler = None\n",
        "        train_accuracy, test_accuracy = fit(sparsed_model, 5, train_loader, test_loader, criterion, optimizer, scheduler, device)\n",
        "        testAccuracy = int(max(test_accuracy))\n",
        "\n",
        "    # Return optimal prune ratio\n",
        "    return init_prune_ratio - steps"
      ]
    }
  ]
}