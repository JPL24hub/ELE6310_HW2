{
  "nbformat": 4,
  "nbformat_minor": 0,
  "metadata": {
    "colab": {
      "provenance": []
    },
    "kernelspec": {
      "name": "python3",
      "display_name": "Python 3"
    },
    "language_info": {
      "name": "python"
    }
  },
  "cells": [
    {
      "cell_type": "markdown",
      "source": [
        "# Q2. Energy model with Accelergy"
      ],
      "metadata": {
        "id": "oBGugj2K4MIo"
      }
    },
    {
      "cell_type": "code",
      "source": [
        "# This code allows you to generate the Energy plots for DRAM, SRAM, register files, and MAC.\n",
        "# How to run: Afer instaling timeloop-accelergy and connecting to drive, the code should be run in the main.ipynb notebook\n",
        "\n",
        "# Parameters:\n",
        "#   component_class : Name of component used (ie. DRAM, SRAM, etc)\n",
        "#   depth           : Depth of selected component\n",
        "#   width           : Width of selected component\n",
        "#   end_width_depth : Value to which you will vary either depth or width to\n",
        "#   steps           : Steps between the sampled value of the varying parameter.\n",
        "#   what_vary       : The parameter being varied (\"width\" or \"depth\")\n",
        "\n",
        "# =======Parameters================\n",
        "component_class=\"SRAM\"\n",
        "depth=8192\n",
        "width=16\n",
        "end_width_depth= 2048\n",
        "steps = 24\n",
        "what_vary = \"width\"\n",
        "#=========================================\n",
        "path=\"/content/gdrive/MyDrive/PhD_ETS/ELE6310E/Colab_Notebooks/HW/A2/Q2/arch_base.yaml\"\n",
        "j = 0\n",
        "if what_vary == \"width\":\n",
        "  reads_write_var = torch.empty(int((end_width_depth-width)/steps)+1, 3) # To store results\n",
        "  for change_width in range(width, end_width_depth+1, steps):\n",
        "    YAML_generator(component_class, depth, change_width, path)\n",
        "    !timeloop-model /content/arch.yaml /content/gdrive/MyDrive/PhD_ETS/ELE6310E/Colab_Notebooks/HW/A2/Q2/prob.yaml /content/gdrive/MyDrive/PhD_ETS/ELE6310E/Colab_Notebooks/HW/A2/Q2/map.yaml\n",
        "    energy_read, energy_write = YAML_parser(\"/content/timeloop-model.ERT_summary.yaml\")\n",
        "    reads_write_var[j,0] = energy_read\n",
        "    reads_write_var[j,1] = energy_write\n",
        "    reads_write_var[j,2] = change_width\n",
        "    j +=1\n",
        "elif what_vary == \"depth\":\n",
        "  reads_write_var = torch.empty(int((end_width_depth-depth)/steps)+1, 3) # To store results\n",
        "  for i in range(depth, end_width_depth+1, steps):\n",
        "    YAML_generator(component_class, depth, width, path)\n",
        "    !timeloop-model /content/arch.yaml /content/gdrive/MyDrive/PhD_ETS/ELE6310E/Colab_Notebooks/HW/A2/Q2/prob.yaml /content/gdrive/MyDrive/PhD_ETS/ELE6310E/Colab_Notebooks/HW/A2/Q2/map.yaml\n",
        "    energy_read, energy_write = YAML_parser(\"/content/timeloop-model.ERT_summary.yaml\")\n",
        "    energy_read, energy_write = YAML_parser(\"/content/timeloop-model.ERT_summary.yaml\")\n",
        "    reads_write_var[j,0] = energy_read\n",
        "    reads_write_var[j,1] = energy_write\n",
        "    reads_write_var[j,2] = depth\n",
        "    j +=1\n",
        "    depth +=i\n",
        "else:\n",
        "  print(\"Error: No such vary dimention\")\n",
        "\n",
        "# Plot\n",
        "read = reads_write_var[:, 0].numpy() # Tensor to numpy array\n",
        "write = reads_write_var[:, 1].numpy()\n",
        "var = reads_write_var[:, 2].numpy()\n",
        "\n",
        "plt.figure(figsize=(10, 6))\n",
        "plt.plot(var, read, label='Reading')\n",
        "plt.plot(var, write, label='Writing')\n",
        "plt.xlabel('Width')\n",
        "plt.ylabel('Energy (J)')\n",
        "plt.title('Energy vs Width')\n",
        "plt.legend()\n",
        "plt.grid(True)\n",
        "plt.show()\n",
        "\n"
      ],
      "metadata": {
        "id": "OYLYHJcI4Lyb"
      },
      "execution_count": null,
      "outputs": []
    },
    {
      "cell_type": "markdown",
      "source": [
        "# intermac\n",
        "The code for intermac required adjustment to collect more data because the timeloop-model.ERT_summary.yaml for intermac is different."
      ],
      "metadata": {
        "id": "NUF4r9mj7wAF"
      }
    },
    {
      "cell_type": "code",
      "execution_count": null,
      "metadata": {
        "id": "-Ec_-I7d4Aiw"
      },
      "outputs": [],
      "source": [
        "# How to run: Because the intermac timeloop-model.ERT_summary.yaml file generates 3 energies (energy_read, energy_write , energy_gated),\n",
        "# it is important to first modify the YAML_parser function to identify these energies. The modified YAML_parser() is shown after this code.\n",
        "\n",
        "component_class=\"intmac\"\n",
        "depth=512\n",
        "width=2\n",
        "end_width_depth= 64\n",
        "steps = 1\n",
        "what_vary = \"width\"\n",
        "path=\"/content/gdrive/MyDrive/PhD_ETS/ELE6310E/Colab_Notebooks/HW/A2/Q2/arch_base.yaml\"\n",
        "j = 0\n",
        "if what_vary == \"width\":\n",
        "  reads_write_var = torch.empty(int((end_width_depth-width)/steps)+1, 4) # To store results\n",
        "  for change_width in range(width, end_width_depth+1, steps):\n",
        "    YAML_generator(component_class, depth, change_width, path)\n",
        "    !timeloop-model /content/arch.yaml /content/gdrive/MyDrive/PhD_ETS/ELE6310E/Colab_Notebooks/HW/A2/Q2/prob.yaml /content/gdrive/MyDrive/PhD_ETS/ELE6310E/Colab_Notebooks/HW/A2/Q2/map.yaml\n",
        "    energy_read, energy_write, energy_gated = YAML_parser(\"/content/timeloop-model.ERT_summary.yaml\")\n",
        "    reads_write_var[j,0] = energy_read\n",
        "    reads_write_var[j,1] = energy_write\n",
        "    reads_write_var[j,2] = change_width\n",
        "    reads_write_var[j,3] = energy_gated\n",
        "    j +=1\n",
        "elif what_vary == \"depth\":\n",
        "  reads_write_var = torch.empty(int((end_width_depth-depth)/steps)+1, 3) # To store results\n",
        "  for change_depth in range(depth, end_width_depth+1, steps):\n",
        "    YAML_generator(component_class, change_depth, width, path)\n",
        "    !timeloop-model /content/arch.yaml /content/gdrive/MyDrive/PhD_ETS/ELE6310E/Colab_Notebooks/HW/A2/Q2/prob.yaml /content/gdrive/MyDrive/PhD_ETS/ELE6310E/Colab_Notebooks/HW/A2/Q2/map.yaml\n",
        "    energy_read, energy_write, energy_gated = YAML_parser(\"/content/timeloop-model.ERT_summary.yaml\")\n",
        "    reads_write_var[j,0] = energy_read\n",
        "    reads_write_var[j,1] = energy_write\n",
        "    reads_write_var[j,2] = change_depth\n",
        "    reads_write_var[j,3] = energy_gated\n",
        "    j +=1\n",
        "else:\n",
        "  print(\"Error: No such vary dimention\")\n",
        "\n",
        "# Plot\n",
        "\n",
        "read = reads_write_var[:, 0].numpy() # Tensor to numpy array\n",
        "write = reads_write_var[:, 1].numpy()\n",
        "var = reads_write_var[:, 2].numpy()\n",
        "gate = reads_write_var[:, 3].numpy()\n",
        "\n",
        "plt.figure(figsize=(10, 6))\n",
        "plt.plot(var, read, label='mac_random')\n",
        "plt.plot(var, write, label='mac_reused')\n",
        "plt.plot(var, gate, label='mac_gated')\n",
        "plt.xlabel('Width')\n",
        "plt.ylabel('Energy (J)')\n",
        "plt.title('Energy vs Width')\n",
        "plt.legend()\n",
        "plt.grid(True)\n",
        "plt.show()"
      ]
    },
    {
      "cell_type": "markdown",
      "source": [
        "# YAML_parser (Modified)"
      ],
      "metadata": {
        "id": "3s0Qi1Mb-SwH"
      }
    },
    {
      "cell_type": "code",
      "source": [
        "def YAML_parser(path=\"timeloop-model.ERT_summary.yaml\"):\n",
        "    current_path = os.getcwd()\n",
        "    path = os.path.join(current_path, path)\n",
        "    with open(path, 'r') as stream:\n",
        "        data_loaded = yaml.safe_load(stream)\n",
        "    for data in data_loaded['ERT_summary']['table_summary'][1]['actions']:\n",
        "        if data['name'] == 'read':\n",
        "            if \"max_energy\" in data.keys():\n",
        "                energy_read = data['max_energy']\n",
        "            else :\n",
        "                energy_read = data['energy']\n",
        "        if data['name'] == 'write':\n",
        "            if \"max_energy\" in data.keys():\n",
        "                energy_write = data['max_energy']\n",
        "            else :\n",
        "                energy_write = data[\"energy\"]\n",
        "\n",
        "        if data['name'] == 'mac_random':\n",
        "            energy_read = data['energy']\n",
        "        if data['name'] == 'mac_reused':\n",
        "            energy_write = data['energy']\n",
        "        if data['name'] == 'mac_gated':\n",
        "            energy_gated = data['energy']\n",
        "\n",
        "    return energy_read, energy_write , energy_gated"
      ],
      "metadata": {
        "id": "N_v72Q9o-RQJ"
      },
      "execution_count": null,
      "outputs": []
    }
  ]
}